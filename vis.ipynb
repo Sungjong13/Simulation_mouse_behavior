{
 "cells": [
  {
   "cell_type": "code",
   "execution_count": 105,
   "metadata": {},
   "outputs": [],
   "source": [
    "import pandas as pd\n",
    "import matplotlib.pyplot as plt\n",
    "\n",
    "import simulation as sim\n",
    "import visualization as vis"
   ]
  },
  {
   "cell_type": "code",
   "execution_count": 2,
   "metadata": {},
   "outputs": [],
   "source": [
    "# run simulation\n",
    "data_list = sim.run_full_simulation()"
   ]
  },
  {
   "cell_type": "code",
   "execution_count": 3,
   "metadata": {},
   "outputs": [],
   "source": [
    "COLUMN_NAMES = [\"Mouse Name\",\"Behavior Preference\",\"Behavior Taken\",\"Food Acquired\"]"
   ]
  },
  {
   "cell_type": "code",
   "execution_count": 4,
   "metadata": {},
   "outputs": [],
   "source": [
    "def create_df_list(list3d, column_names=COLUMN_NAMES):\n",
    "    \"\"\"get 3d list and make list of dataframes\"\"\"\n",
    "    df_list = [pd.DataFrame(data, columns=column_names).set_index(\"Mouse Name\") for data in list3d]\n",
    "    return df_list"
   ]
  },
  {
   "cell_type": "code",
   "execution_count": 5,
   "metadata": {},
   "outputs": [],
   "source": [
    "def create_behaviorcount_per_cycle(df_list):\n",
    "    \"\"\"return df_behaviorcount, has count of behaviors per each cycle\"\"\"\n",
    "    temp_list = []\n",
    "    for idx, df in enumerate(df_list):\n",
    "        df = df.groupby('Behavior Taken', sort=False).count().rename(columns={\"Behavior Preference\":idx+1})[idx+1]\n",
    "        temp_list.append(df)\n",
    "    \n",
    "    return pd.concat(temp_list,axis=1)"
   ]
  },
  {
   "cell_type": "code",
   "execution_count": 91,
   "metadata": {},
   "outputs": [],
   "source": [
    "def visualize_stackplot(df, ylegend_order=[], title=\"Behavior Count\", supplementary_text=f\"Food : {sim.NUM_FOOD} \\nSwimPen : -{sim.WATER_PENALTY} \\nCarryCap : {sim.NUM_FOOD_MOVEDBY_MOUSE}\"):\n",
    "    \"\"\"draw stackplot with matplotlib\"\"\"\n",
    "    # set default column order <<postponed>>\n",
    "    if not ylegend_order:\n",
    "        ylegend_order = df.index\n",
    "\n",
    "    # draw stackplot\n",
    "    fig = plt.figure(figsize=(5,4))\n",
    "    ax = fig.add_subplot()\n",
    "    \n",
    "    ax.text(22,106,supplementary_text, fontsize=20)\n",
    "    plt.stackplot(df.columns, df)\n",
    "    plt.legend(df.index, loc='upper left')\n",
    "    plt.margins(0,0)\n",
    "    plt.suptitle(title, fontsize=15)\n",
    "    plt.xlabel(\"# of cycles\", fontsize=12)\n",
    "    plt.ylabel(\"# of mice\", fontsize=12)\n",
    "    plt.show()"
   ]
  },
  {
   "cell_type": "code",
   "execution_count": 13,
   "metadata": {},
   "outputs": [],
   "source": [
    "df_list = create_df_list(data_list)"
   ]
  },
  {
   "cell_type": "code",
   "execution_count": 14,
   "metadata": {},
   "outputs": [],
   "source": [
    "df_behaviorcount = create_behaviorcount_per_cycle(df_list)\n",
    "# df_behaviorcount = df_behaviorcount.divide(df_behaviorcount.sum(axis=1), axis=0)\n",
    "# df_behaviorcount"
   ]
  },
  {
   "cell_type": "code",
   "execution_count": 92,
   "metadata": {},
   "outputs": [
    {
     "data": {
      "image/png": "[encoded data removed]",
      "text/plain": [
       "<Figure size 360x288 with 1 Axes>"
      ]
     },
     "metadata": {
      "needs_background": "light"
     },
     "output_type": "display_data"
    }
   ],
   "source": [
    "visualize_stackplot(df_behaviorcount)"
   ]
  },
  {
   "cell_type": "code",
   "execution_count": 103,
   "metadata": {},
   "outputs": [
    {
     "data": {
      "text/plain": [
       "{'hunt': 86.32086935094424,\n",
       " 'scavenge': 4.514699492685308,\n",
       " 'stayhome': 9.164431156370457}"
      ]
     },
     "execution_count": 103,
     "metadata": {},
     "output_type": "execute_result"
    }
   ],
   "source": [
    "df_list[5][\"Behavior Preference\"].iloc[0]"
   ]
  },
  {
   "cell_type": "code",
   "execution_count": 85,
   "metadata": {},
   "outputs": [
    {
     "data": {
      "text/plain": [
       "Index(['mouse1', 'mouse2', 'mouse3', 'mouse4', 'mouse5', 'mouse6', 'mouse7',\n",
       "       'mouse8', 'mouse9', 'mouse10', 'mouse11', 'mouse12', 'mouse13',\n",
       "       'mouse14', 'mouse15', 'mouse16', 'mouse17', 'mouse18', 'mouse19',\n",
       "       'mouse20', 'mouse21', 'mouse22', 'mouse23', 'mouse24', 'mouse25',\n",
       "       'mouse26', 'mouse27', 'mouse28', 'mouse29', 'mouse30', 'mouse31',\n",
       "       'mouse32', 'mouse33', 'mouse34', 'mouse35', 'mouse36', 'mouse37',\n",
       "       'mouse38', 'mouse39', 'mouse40', 'mouse41', 'mouse42', 'mouse43',\n",
       "       'mouse44', 'mouse45', 'mouse46', 'mouse47', 'mouse48', 'mouse49',\n",
       "       'mouse50', 'mouse51', 'mouse52', 'mouse53', 'mouse54', 'mouse55',\n",
       "       'mouse56', 'mouse57', 'mouse58', 'mouse59', 'mouse60', 'mouse61',\n",
       "       'mouse62', 'mouse63', 'mouse64', 'mouse65', 'mouse66', 'mouse67',\n",
       "       'mouse68', 'mouse69', 'mouse70', 'mouse71', 'mouse72', 'mouse73',\n",
       "       'mouse74', 'mouse75', 'mouse76', 'mouse77', 'mouse78', 'mouse79',\n",
       "       'mouse80', 'mouse81', 'mouse82', 'mouse83', 'mouse84', 'mouse85',\n",
       "       'mouse86', 'mouse87', 'mouse88', 'mouse89', 'mouse90', 'mouse91',\n",
       "       'mouse92', 'mouse93', 'mouse94', 'mouse95', 'mouse96', 'mouse97',\n",
       "       'mouse98', 'mouse99', 'mouse100'],\n",
       "      dtype='object', name='Mouse Name')"
      ]
     },
     "execution_count": 85,
     "metadata": {},
     "output_type": "execute_result"
    }
   ],
   "source": [
    "df_list = create_df_list(data_list)\n",
    "test_df = df_list[2]\n",
    "test_df2 = df_list[1]\n",
    "test_df\n",
    "test_df.index"
   ]
  },
  {
   "cell_type": "code",
   "execution_count": 67,
   "metadata": {},
   "outputs": [
    {
     "data": {
      "text/plain": [
       "Behavior Taken\n",
       "hunt        47\n",
       "scavenge    24\n",
       "stayhome    29\n",
       "Name: Mouse Count, dtype: int64"
      ]
     },
     "execution_count": 67,
     "metadata": {},
     "output_type": "execute_result"
    }
   ],
   "source": [
    "gbdf1=test_df.groupby('Behavior Taken', sort=False).count().rename(columns={\"Behavior Preference\":\"Mouse Count\"})[\"Mouse Count\"]\n",
    "gbdf2=test_df2.groupby('Behavior Taken', sort=False).count().rename(columns={\"Behavior Preference\":\"Mouse Count\"})[\"Mouse Count\"]\n",
    "pd.concat([gbdf1,gbdf2], axis=1)\n"
   ]
  },
  {
   "cell_type": "code",
   "execution_count": 39,
   "metadata": {},
   "outputs": [
    {
     "data": {
      "text/html": [
       "<div>\n",
       "<style scoped>\n",
       "    .dataframe tbody tr th:only-of-type {\n",
       "        vertical-align: middle;\n",
       "    }\n",
       "\n",
       "    .dataframe tbody tr th {\n",
       "        vertical-align: top;\n",
       "    }\n",
       "\n",
       "    .dataframe thead th {\n",
       "        text-align: right;\n",
       "    }\n",
       "</style>\n",
       "<table border=\"1\" class=\"dataframe\">\n",
       "  <thead>\n",
       "    <tr style=\"text-align: right;\">\n",
       "      <th></th>\n",
       "      <th>Mouse_Count</th>\n",
       "      <th>Food_Acquired</th>\n",
       "    </tr>\n",
       "    <tr>\n",
       "      <th>Behavior Taken</th>\n",
       "      <th></th>\n",
       "      <th></th>\n",
       "    </tr>\n",
       "  </thead>\n",
       "  <tbody>\n",
       "    <tr>\n",
       "      <th>hunt</th>\n",
       "      <td>47</td>\n",
       "      <td>3.489362</td>\n",
       "    </tr>\n",
       "    <tr>\n",
       "      <th>scavenge</th>\n",
       "      <td>24</td>\n",
       "      <td>0.679245</td>\n",
       "    </tr>\n",
       "    <tr>\n",
       "      <th>stayhome</th>\n",
       "      <td>29</td>\n",
       "      <td>0.679245</td>\n",
       "    </tr>\n",
       "  </tbody>\n",
       "</table>\n",
       "</div>"
      ],
      "text/plain": [
       "                Mouse_Count  Food_Acquired\n",
       "Behavior Taken                            \n",
       "hunt                     47       3.489362\n",
       "scavenge                 24       0.679245\n",
       "stayhome                 29       0.679245"
      ]
     },
     "execution_count": 39,
     "metadata": {},
     "output_type": "execute_result"
    }
   ],
   "source": [
    "# gb_df = test_df.groupby([\"Behavior Taken\"], sort=False).count()\n",
    "gb_df = test_df.groupby('Behavior Taken', sort=False).agg(Mouse_Count=('Behavior Preference','count'), Food_Acquired=('Food Acquired','first'))\n",
    "gb_df2 = test_df2.groupby([\"Behavior Taken\"], sort=False).count()\n",
    "gb_df"
   ]
  },
  {
   "cell_type": "code",
   "execution_count": null,
   "metadata": {},
   "outputs": [],
   "source": []
  }
 ],
 "metadata": {
  "kernelspec": {
   "display_name": "Python 3.10.7 64-bit",
   "language": "python",
   "name": "python3"
  },
  "language_info": {
   "codemirror_mode": {
    "name": "ipython",
    "version": 3
   },
   "file_extension": ".py",
   "mimetype": "text/x-python",
   "name": "python",
   "nbconvert_exporter": "python",
   "pygments_lexer": "ipython3",
   "version": "3.10.7"
  },
  "orig_nbformat": 4,
  "vscode": {
   "interpreter": {
    "hash": "8e55a12fd10442129ea7fa3878429f4ee77de4400bbb14d278a10087576b3c00"
   }
  }
 },
 "nbformat": 4,
 "nbformat_minor": 2
}
